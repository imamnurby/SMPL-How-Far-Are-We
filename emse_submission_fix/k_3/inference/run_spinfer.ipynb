{
 "cells": [
  {
   "cell_type": "code",
   "execution_count": 1,
   "metadata": {},
   "outputs": [],
   "source": [
    "import logging\n",
    "import os\n",
    "import shutil\n",
    "import subprocess\n",
    "from typing import List, Dict\n",
    "\n",
    "import pandas as pd\n"
   ]
  },
  {
   "cell_type": "code",
   "execution_count": 2,
   "metadata": {},
   "outputs": [],
   "source": [
    "def read_file(base_directory: str) -> pd.DataFrame:\n",
    "    \"\"\"\n",
    "    Traverse a directory and its subdirectories to find and process files with the \".res.c\" extension.\n",
    "    Files are processed in alphabetical order, ensuring consistent execution across runs on the same system.\n",
    "    \n",
    "    Parameters:\n",
    "    - base_directory (str): The base directory path from which to start the search.\n",
    "    \n",
    "    Returns:\n",
    "    - pd.DataFrame: A DataFrame containing the file path without the \".res.c\" extension, the directory name,\n",
    "      and a boolean indicating whether a corresponding \".cocci\" file exists for each \".res.c\" file found.\n",
    "    \"\"\"\n",
    "    out: List[Dict[str, any]] = []  # Initialize a list to hold the file information dictionaries.\n",
    "    for root, dirs, files in os.walk(base_directory):\n",
    "        files.sort()  # Sort files alphabetically within each directory for consistent processing order.\n",
    "        dirs.sort()   # Sort subdirectories alphabetically to ensure consistent traversal order.\n",
    "        for filename in files:\n",
    "            if filename.endswith(\".res.c.sanitized.res.c\") and \"gpt\" not in filename and \"spinfer\" not in filename and \"deepseek\" not in filename and \"claude\" not in filename:\n",
    "                filepath = os.path.join(root, filename).split(\".res.c.sanitized.res.c\")[0]\n",
    "                temp_dict: Dict[str, any] = {\n",
    "                    \"filepath\": filepath,\n",
    "                    \"directory\": root.split(\"/\")[-1] if \"treewide\" not in root else \"treewide\",\n",
    "                    \"is_cocci\": os.path.isfile(filepath + \".cocci\")\n",
    "                }\n",
    "                out.append(temp_dict)\n",
    "    return pd.DataFrame(out)\n",
    "\n",
    "def write_index_file(df: pd.DataFrame)->List[str]:\n",
    "    directories = df[\"directory\"].unique()\n",
    "    outputs = []\n",
    "    for d in directories:\n",
    "        temp_df = df[df[\"directory\"]==d]\n",
    "        written = []\n",
    "        index = []\n",
    "        for idx, row in temp_df.iterrows():\n",
    "            base_directory = row[\"filepath\"].split(\"/\") \n",
    "\n",
    "            if row[\"filepath\"] not in written:\n",
    "                c_init = row[\"filepath\"] + \".c.sanitized.c\"\n",
    "                c_final = row[\"filepath\"] + \".res.c.sanitized.res.c\"\n",
    "                written.append(row[\"filepath\"])\n",
    "\n",
    "            index.append(f\"{c_init} {c_final}\")\n",
    "\n",
    "        index = \"\\n\".join(index)\n",
    "\n",
    "        base_directory = base_directory[:-1]\n",
    "        output_filepath = os.path.join(\"/\".join(base_directory), \"index\")\n",
    "        with open(output_filepath, \"w\") as f:\n",
    "            f.write(index)    \n",
    "        outputs.append(output_filepath)\n",
    "    return outputs\n",
    "\n",
    "def run_spinfer(index_filepath: str, output_filepath: str):\n",
    "    try:\n",
    "        # Define the command to run\n",
    "        command = [\"spinfer.native\", \"-f\", index_filepath, \"-o\", output_filepath]\n",
    "        \n",
    "        # Execute the command\n",
    "        result = subprocess.run(command, check=True, stdout=subprocess.PIPE, stderr=subprocess.PIPE, universal_newlines=True)\n",
    "        \n",
    "        # Print the output if necessary\n",
    "        logging.info(f\"{index_filepath} has been processed!\")\n",
    "    except subprocess.CalledProcessError as e:\n",
    "        # Handle errors in command execution\n",
    "        logging.error(f\"Error occurred while executing command: {e}\")"
   ]
  },
  {
   "cell_type": "code",
   "execution_count": 3,
   "metadata": {},
   "outputs": [
    {
     "name": "stdout",
     "output_type": "stream",
     "text": [
      "./EXP0-7/final_response_0.spinfer.cocci\n",
      "./dasd_smalloc/final_response_0.spinfer.cocci\n",
      "./dma_pool_alloc-52/final_response_0.spinfer.cocci\n",
      "./early_memunmap/final_response_0.spinfer.cocci\n",
      "./free_bootmem-77/final_response_0.spinfer.cocci\n",
      "./kees_timer1/final_response_0.spinfer.cocci\n",
      "./perf_evlist__mmap-69/final_response_0.spinfer.cocci\n",
      "./random_ether_addr-84/final_response_0.spinfer.cocci\n",
      "./snd_soc/final_response_0.spinfer.cocci\n",
      "./sock_poll_wait-84/final_response_0.spinfer.cocci\n",
      "./tcaction/final_response_0.spinfer.cocci\n",
      "./tcf_block_get-61/final_response_0.spinfer.cocci\n",
      "./ttm_bo_init-60/final_response_0.spinfer.cocci\n",
      "./uartlite/final_response_0.spinfer.cocci\n"
     ]
    }
   ],
   "source": [
    "INFERENCE_DIRECTORY = f\"./\"\n",
    "directory = INFERENCE_DIRECTORY\n",
    "logging.info(f\"Processing directory: {directory}\")\n",
    "# read c files\n",
    "df = read_file(directory)\n",
    "\n",
    "# write index files\n",
    "index_filepaths = write_index_file(df)\n",
    "\n",
    "# # run spinfer\n",
    "for p in index_filepaths:\n",
    "    directory = p.split(\"/\")[:-1]\n",
    "    directory = \"/\".join(directory)\n",
    "    output_filepath = os.path.join(directory, f\"final_response_0.spinfer.cocci\")\n",
    "    print(output_filepath)\n",
    "    # run_spinfer(p, output_filepath)"
   ]
  },
  {
   "cell_type": "code",
   "execution_count": 4,
   "metadata": {},
   "outputs": [
    {
     "data": {
      "text/plain": [
       "'./EXP0-7/1533533124_2018-08-06_4fd786e6c3d6_backref_btrfs_check_shared'"
      ]
     },
     "execution_count": 4,
     "metadata": {},
     "output_type": "execute_result"
    }
   ],
   "source": [
    "df.iloc[0].filepath"
   ]
  },
  {
   "cell_type": "code",
   "execution_count": 6,
   "metadata": {},
   "outputs": [],
   "source": [
    "TEST_DIRECTORY = f\"../test\"\n",
    "for p in index_filepaths:\n",
    "    directory = p.split(\"/\")[:-1]\n",
    "    directory = \"/\".join(directory)\n",
    "    output_filepath = os.path.join(directory, f\"final_response_0.spinfer.cocci\")\n",
    "\n",
    "    # copy sp to test directory\n",
    "    if os.path.exists(output_filepath):\n",
    "        directory = directory.split(\"/\")[-1]\n",
    "        cocci_filepath = os.path.join(TEST_DIRECTORY, directory, f\"sp_out.final.spinfer.cocci\")\n",
    "        shutil.copy(output_filepath, cocci_filepath)\n",
    "    else:\n",
    "        print(f\"Failed to copy {output_filepath}! The file does not exist.\")"
   ]
  },
  {
   "cell_type": "code",
   "execution_count": 7,
   "metadata": {},
   "outputs": [],
   "source": [
    "def apply_cocci(cocci_filepath: str, c_before_filepath: str, c_after_result_filepath: str, debug_filepath: str) -> None:\n",
    "    '''\n",
    "    Applies a semantic patch specified by cocci_filepath to a C file, writes the result to c_after_result_filepath,\n",
    "    and writes debug information to debug_filepath.\n",
    "    '''\n",
    "    # Construct the command as a list for better security and cross-platform support\n",
    "    command = [\n",
    "        \"spatch\",\n",
    "        \"--sp-file\", cocci_filepath,\n",
    "        c_before_filepath,\n",
    "        \"-o\", c_after_result_filepath,\n",
    "        \"--debug\",\n",
    "        \"--timeout\", \"30\"\n",
    "    ]\n",
    "    \n",
    "    # Open the debug file to write the output and error information\n",
    "    with open(debug_filepath, \"w\") as output_file:\n",
    "        try:\n",
    "            # Run the command using subprocess.run\n",
    "            result = subprocess.run(command, stdout=output_file, stderr=output_file, check=True)\n",
    "            logging.info(f\"{' '.join(command)} is executed!\")\n",
    "        except subprocess.CalledProcessError as e:\n",
    "            # Handle errors in command execution\n",
    "            logging.error(f\"Error occurred: {e}\")"
   ]
  },
  {
   "cell_type": "code",
   "execution_count": 8,
   "metadata": {},
   "outputs": [
    {
     "name": "stderr",
     "output_type": "stream",
     "text": [
      "ERROR:root:Error occurred: Command '['spatch', '--sp-file', './snd_soc/final_response_0.spinfer.cocci', './snd_soc/1524629994_2018-04-25_e4b31b816c47_mt2701-afe-pcm_mt2701_dlm_fe_startup.c.sanitized.c', '-o', './snd_soc/1524629994_2018-04-25_e4b31b816c47_mt2701-afe-pcm_mt2701_dlm_fe_startup.0.spinfer.res.c', '--debug', '--timeout', '30']' returned non-zero exit status 255.\n",
      "ERROR:root:Error occurred: Command '['spatch', '--sp-file', './snd_soc/final_response_0.spinfer.cocci', './snd_soc/1524629994_2018-04-25_e4b31b816c47_mtk-afe-fe-dai_mtk_afe_fe_trigger.c.sanitized.c', '-o', './snd_soc/1524629994_2018-04-25_e4b31b816c47_mtk-afe-fe-dai_mtk_afe_fe_trigger.0.spinfer.res.c', '--debug', '--timeout', '30']' returned non-zero exit status 255.\n",
      "ERROR:root:Error occurred: Command '['spatch', '--sp-file', './tcf_block_get-61/final_response_0.spinfer.cocci', './tcf_block_get-61/1507896057_2017-10-13_69d78ef25c7b_sch_drr_drr_init_qdisc.c.sanitized.c', '-o', './tcf_block_get-61/1507896057_2017-10-13_69d78ef25c7b_sch_drr_drr_init_qdisc.0.spinfer.res.c', '--debug', '--timeout', '30']' returned non-zero exit status 255.\n",
      "ERROR:root:Error occurred: Command '['spatch', '--sp-file', './tcf_block_get-61/final_response_0.spinfer.cocci', './tcf_block_get-61/1513791319_2017-12-20_8d1a77f974ca_sch_htb_htb_init.c.sanitized.c', '-o', './tcf_block_get-61/1513791319_2017-12-20_8d1a77f974ca_sch_htb_htb_init.0.spinfer.res.c', '--debug', '--timeout', '30']' returned non-zero exit status 255.\n",
      "ERROR:root:Error occurred: Command '['spatch', '--sp-file', './uartlite/final_response_0.spinfer.cocci', './uartlite/1360605874_2013-02-11_6d53c3b71d32_uartlite_ulite_get_poll_char.c.sanitized.c', '-o', './uartlite/1360605874_2013-02-11_6d53c3b71d32_uartlite_ulite_get_poll_char.0.spinfer.res.c', '--debug', '--timeout', '30']' returned non-zero exit status 255.\n"
     ]
    }
   ],
   "source": [
    "directories = df[\"directory\"].unique()\n",
    "for d in directories:\n",
    "    logging.info(f\"Processing directory: {d}\")\n",
    "\n",
    "    filter = df[\"directory\"] == d\n",
    "    temp_df = df[filter]\n",
    "\n",
    "    for idx, row in temp_df.iterrows():\n",
    "        logging.info(f\"Processing file: {row['filepath']}\")\n",
    "        \n",
    "        current_d = \"/\".join(row[\"filepath\"].split(\"/\")[:-1])\n",
    "        \n",
    "        cocci_filepath = os.path.join(current_d, f\"final_response_0.spinfer.cocci\")\n",
    "\n",
    "        if os.path.exists(cocci_filepath):\n",
    "            logging.info(f\"Cocci filepath is found: {cocci_filepath}\")\n",
    "            \n",
    "            c_init = row[\"filepath\"] + \".c.sanitized.c\"\n",
    "            c_final = row[\"filepath\"] + f\".0.spinfer.res.c\"\n",
    "            debug = row[\"filepath\"] + f\".0.spinfer.res.c\"\n",
    "            # if os.path.exists(c_final):\n",
    "            #     os.remove(c_final)\n",
    "            #     os.remove(debug)\n",
    "            \n",
    "            apply_cocci(cocci_filepath, c_init, c_final, debug)\n",
    "\n",
    "        else:\n",
    "            logging.info(f\"Cocci filepath not found: {cocci_filepath}\")"
   ]
  },
  {
   "cell_type": "code",
   "execution_count": null,
   "metadata": {},
   "outputs": [],
   "source": []
  }
 ],
 "metadata": {
  "kernelspec": {
   "display_name": "smpl_py3.12",
   "language": "python",
   "name": "python3"
  },
  "language_info": {
   "codemirror_mode": {
    "name": "ipython",
    "version": 3
   },
   "file_extension": ".py",
   "mimetype": "text/x-python",
   "name": "python",
   "nbconvert_exporter": "python",
   "pygments_lexer": "ipython3",
   "version": "3.12.4"
  }
 },
 "nbformat": 4,
 "nbformat_minor": 2
}
