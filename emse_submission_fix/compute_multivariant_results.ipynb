{
 "cells": [
  {
   "cell_type": "code",
   "execution_count": 5,
   "metadata": {},
   "outputs": [],
   "source": [
    "import pandas as pd"
   ]
  },
  {
   "cell_type": "code",
   "execution_count": 6,
   "metadata": {},
   "outputs": [],
   "source": [
    "APPROACH = [\"claude\", \"deepseek\", \"gpt\", \"spinfer\"]"
   ]
  },
  {
   "cell_type": "code",
   "execution_count": 7,
   "metadata": {},
   "outputs": [],
   "source": [
    "temp_list = []\n",
    "\n",
    "for approach in APPROACH:\n",
    "    df1 = pd.read_csv(f\"/media/hdd2/yusuf/SMPL-How-Far-Are-We/emse_submission_fix/k_1/test/result_perdir_{approach}.csv\")\n",
    "    df1[\"n\"] = 1\n",
    "    df1[\"model\"] = approach\n",
    "    temp_list.append(df1)\n",
    "\n",
    "    df2 = pd.read_csv(f\"/media/hdd2/yusuf/SMPL-How-Far-Are-We/emse_submission_fix/k_2/test/result_perdir_{approach}.csv\")\n",
    "    df2[\"n\"] = 2\n",
    "    df2[\"model\"] = approach\n",
    "    temp_list.append(df2)\n",
    "\n",
    "    df3 = pd.read_csv(f\"/media/hdd2/yusuf/SMPL-How-Far-Are-We/emse_submission_fix/k_3/test/result_perdir_{approach}.csv\")\n",
    "    df3[\"n\"] = 3\n",
    "    df3[\"model\"] = approach\n",
    "    temp_list.append(df3)\n",
    "\n"
   ]
  },
  {
   "cell_type": "code",
   "execution_count": 8,
   "metadata": {},
   "outputs": [
    {
     "data": {
      "text/html": [
       "<div>\n",
       "<style scoped>\n",
       "    .dataframe tbody tr th:only-of-type {\n",
       "        vertical-align: middle;\n",
       "    }\n",
       "\n",
       "    .dataframe tbody tr th {\n",
       "        vertical-align: top;\n",
       "    }\n",
       "\n",
       "    .dataframe thead th {\n",
       "        text-align: right;\n",
       "    }\n",
       "</style>\n",
       "<table border=\"1\" class=\"dataframe\">\n",
       "  <thead>\n",
       "    <tr style=\"text-align: right;\">\n",
       "      <th></th>\n",
       "      <th>root</th>\n",
       "      <th>is_cocci_valid</th>\n",
       "      <th>precision</th>\n",
       "      <th>recall</th>\n",
       "      <th>n</th>\n",
       "      <th>model</th>\n",
       "    </tr>\n",
       "  </thead>\n",
       "  <tbody>\n",
       "    <tr>\n",
       "      <th>0</th>\n",
       "      <td>EXP0-7</td>\n",
       "      <td>1.0</td>\n",
       "      <td>0.97</td>\n",
       "      <td>0.97</td>\n",
       "      <td>1</td>\n",
       "      <td>claude</td>\n",
       "    </tr>\n",
       "    <tr>\n",
       "      <th>1</th>\n",
       "      <td>dasd_smalloc</td>\n",
       "      <td>0.0</td>\n",
       "      <td>0.00</td>\n",
       "      <td>0.00</td>\n",
       "      <td>1</td>\n",
       "      <td>claude</td>\n",
       "    </tr>\n",
       "    <tr>\n",
       "      <th>2</th>\n",
       "      <td>dma_pool_alloc-52</td>\n",
       "      <td>1.0</td>\n",
       "      <td>1.00</td>\n",
       "      <td>1.00</td>\n",
       "      <td>1</td>\n",
       "      <td>claude</td>\n",
       "    </tr>\n",
       "    <tr>\n",
       "      <th>3</th>\n",
       "      <td>early_memunmap</td>\n",
       "      <td>1.0</td>\n",
       "      <td>1.00</td>\n",
       "      <td>1.00</td>\n",
       "      <td>1</td>\n",
       "      <td>claude</td>\n",
       "    </tr>\n",
       "    <tr>\n",
       "      <th>4</th>\n",
       "      <td>free_bootmem-77</td>\n",
       "      <td>1.0</td>\n",
       "      <td>1.00</td>\n",
       "      <td>1.00</td>\n",
       "      <td>1</td>\n",
       "      <td>claude</td>\n",
       "    </tr>\n",
       "    <tr>\n",
       "      <th>...</th>\n",
       "      <td>...</td>\n",
       "      <td>...</td>\n",
       "      <td>...</td>\n",
       "      <td>...</td>\n",
       "      <td>...</td>\n",
       "      <td>...</td>\n",
       "    </tr>\n",
       "    <tr>\n",
       "      <th>9</th>\n",
       "      <td>sock_poll_wait-84</td>\n",
       "      <td>1.0</td>\n",
       "      <td>0.90</td>\n",
       "      <td>0.90</td>\n",
       "      <td>3</td>\n",
       "      <td>spinfer</td>\n",
       "    </tr>\n",
       "    <tr>\n",
       "      <th>10</th>\n",
       "      <td>tcaction</td>\n",
       "      <td>1.0</td>\n",
       "      <td>0.88</td>\n",
       "      <td>0.88</td>\n",
       "      <td>3</td>\n",
       "      <td>spinfer</td>\n",
       "    </tr>\n",
       "    <tr>\n",
       "      <th>11</th>\n",
       "      <td>tcf_block_get-61</td>\n",
       "      <td>0.0</td>\n",
       "      <td>0.00</td>\n",
       "      <td>0.00</td>\n",
       "      <td>3</td>\n",
       "      <td>spinfer</td>\n",
       "    </tr>\n",
       "    <tr>\n",
       "      <th>12</th>\n",
       "      <td>ttm_bo_init-60</td>\n",
       "      <td>1.0</td>\n",
       "      <td>0.33</td>\n",
       "      <td>0.33</td>\n",
       "      <td>3</td>\n",
       "      <td>spinfer</td>\n",
       "    </tr>\n",
       "    <tr>\n",
       "      <th>13</th>\n",
       "      <td>uartlite</td>\n",
       "      <td>1.0</td>\n",
       "      <td>1.00</td>\n",
       "      <td>1.00</td>\n",
       "      <td>3</td>\n",
       "      <td>spinfer</td>\n",
       "    </tr>\n",
       "  </tbody>\n",
       "</table>\n",
       "<p>168 rows × 6 columns</p>\n",
       "</div>"
      ],
      "text/plain": [
       "                 root  is_cocci_valid  precision  recall  n    model\n",
       "0              EXP0-7             1.0       0.97    0.97  1   claude\n",
       "1        dasd_smalloc             0.0       0.00    0.00  1   claude\n",
       "2   dma_pool_alloc-52             1.0       1.00    1.00  1   claude\n",
       "3      early_memunmap             1.0       1.00    1.00  1   claude\n",
       "4     free_bootmem-77             1.0       1.00    1.00  1   claude\n",
       "..                ...             ...        ...     ... ..      ...\n",
       "9   sock_poll_wait-84             1.0       0.90    0.90  3  spinfer\n",
       "10           tcaction             1.0       0.88    0.88  3  spinfer\n",
       "11   tcf_block_get-61             0.0       0.00    0.00  3  spinfer\n",
       "12     ttm_bo_init-60             1.0       0.33    0.33  3  spinfer\n",
       "13           uartlite             1.0       1.00    1.00  3  spinfer\n",
       "\n",
       "[168 rows x 6 columns]"
      ]
     },
     "execution_count": 8,
     "metadata": {},
     "output_type": "execute_result"
    }
   ],
   "source": [
    "df = pd.concat(temp_list)\n",
    "# df.drop(columns=[\"index\"], inplace=True)\n",
    "df"
   ]
  },
  {
   "cell_type": "code",
   "execution_count": 9,
   "metadata": {},
   "outputs": [],
   "source": [
    "multivariants = [\n",
    "    \"EXP0-7\",\n",
    "    \"snd_soc\",\n",
    "    \"kees_timer1\",\n",
    "    \"dasd_smalloc\",\n",
    "    \"tcf_block_get-61\"\n",
    "]"
   ]
  },
  {
   "cell_type": "code",
   "execution_count": 10,
   "metadata": {},
   "outputs": [],
   "source": [
    "df[\"setting\"] = df.root.apply(lambda x: \"multi-variant\" if x in multivariants else \"single-variant\")"
   ]
  },
  {
   "cell_type": "code",
   "execution_count": 11,
   "metadata": {},
   "outputs": [
    {
     "name": "stdout",
     "output_type": "stream",
     "text": [
      "<class 'pandas.core.frame.DataFrame'>\n",
      "Index: 168 entries, 0 to 13\n",
      "Data columns (total 7 columns):\n",
      " #   Column          Non-Null Count  Dtype  \n",
      "---  ------          --------------  -----  \n",
      " 0   root            168 non-null    object \n",
      " 1   is_cocci_valid  168 non-null    float64\n",
      " 2   precision       168 non-null    float64\n",
      " 3   recall          168 non-null    float64\n",
      " 4   n               168 non-null    int64  \n",
      " 5   model           168 non-null    object \n",
      " 6   setting         168 non-null    object \n",
      "dtypes: float64(3), int64(1), object(3)\n",
      "memory usage: 10.5+ KB\n"
     ]
    }
   ],
   "source": [
    "df.info()"
   ]
  },
  {
   "cell_type": "code",
   "execution_count": 12,
   "metadata": {},
   "outputs": [],
   "source": [
    "# Group by model, n, and is_multi, then calculate the mean of precision and recall\n",
    "result = df.groupby(['model', 'n', 'setting'])[['precision', 'recall']].mean().round(2).reset_index()\n"
   ]
  },
  {
   "cell_type": "code",
   "execution_count": 13,
   "metadata": {},
   "outputs": [],
   "source": [
    "result.to_csv(\"results_multivariant.csv\", index=False)"
   ]
  },
  {
   "cell_type": "code",
   "execution_count": null,
   "metadata": {},
   "outputs": [],
   "source": []
  }
 ],
 "metadata": {
  "kernelspec": {
   "display_name": "smpl_py3.12",
   "language": "python",
   "name": "python3"
  },
  "language_info": {
   "codemirror_mode": {
    "name": "ipython",
    "version": 3
   },
   "file_extension": ".py",
   "mimetype": "text/x-python",
   "name": "python",
   "nbconvert_exporter": "python",
   "pygments_lexer": "ipython3",
   "version": "3.12.4"
  }
 },
 "nbformat": 4,
 "nbformat_minor": 2
}
